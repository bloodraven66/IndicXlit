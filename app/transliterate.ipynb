{
 "cells": [
  {
   "cell_type": "code",
   "execution_count": 1,
   "metadata": {},
   "outputs": [],
   "source": [
    "from ai4bharat.transliteration import XlitEngine\n",
    "from tqdm import tqdm"
   ]
  },
  {
   "cell_type": "code",
   "execution_count": null,
   "metadata": {},
   "outputs": [],
   "source": [
    "class Predict():\n",
    "    def __init__(self, lang, topk=1, beam_width=10, rescore=False, script=\"indic\"):\n",
    "        self.prediction_engine = XlitEngine(src_script_type=script, beam_width=beam_width, rescore=rescore)    \n",
    "        self.topk = topk\n",
    "        self.lang = lang\n",
    "    \n",
    "    def save_values(self, outputs):\n",
    "        prediction, attn, input_tokens, output_tokens = outputs\n",
    "        pass\n",
    "    \n",
    "    def words(self, words):\n",
    "        for word in tqdm(words):\n",
    "            outputs = self.prediction_engine.translit_word(word, lang_code=self.lang, topk=self.topk)\n",
    "            self.save_values(outputs)\n",
    "            \n",
    "e = XlitEngine(src_script_type=\"indic\", beam_width=10, rescore=False)\n",
    "out = e.translit_word(\"नमस्ते\", lang_code=\"hi\", topk=5)\n",
    "print(out)"
   ]
  }
 ],
 "metadata": {
  "kernelspec": {
   "display_name": "Python 3",
   "language": "python",
   "name": "python3"
  },
  "language_info": {
   "codemirror_mode": {
    "name": "ipython",
    "version": 3
   },
   "file_extension": ".py",
   "mimetype": "text/x-python",
   "name": "python",
   "nbconvert_exporter": "python",
   "pygments_lexer": "ipython3",
   "version": "3.8.10"
  },
  "orig_nbformat": 4
 },
 "nbformat": 4,
 "nbformat_minor": 2
}
